{
 "cells": [
  {
   "cell_type": "code",
   "execution_count": 19,
   "metadata": {},
   "outputs": [
    {
     "data": {
      "text/plain": [
       "[5, 3, 8, 4, 2, 7, 1, 10, 6, 9]"
      ]
     },
     "execution_count": 19,
     "metadata": {},
     "output_type": "execute_result"
    }
   ],
   "source": [
    "unsorted_array = [5, 3, 8, 4, 2, 7, 1, 10, 6, 9]\n",
    "unsorted_array"
   ]
  },
  {
   "cell_type": "code",
   "execution_count": 15,
   "metadata": {},
   "outputs": [],
   "source": [
    "def merge(arr, l, m, r):\n",
    "    n1 = m - l + 1\n",
    "    n2 = r - m\n",
    "\n",
    "    left = arr[l:m+1]\n",
    "    right = arr[m+1:r+1]\n",
    "\n",
    "    i = j = 0\n",
    "    k = l\n",
    "\n",
    "    while i < n1 and j < n2:\n",
    "        if left[i] <= right[j]:\n",
    "            arr[k] = left[i]\n",
    "            i += 1\n",
    "        else:\n",
    "            arr[k] = right[j]\n",
    "            j += 1\n",
    "        k += 1\n",
    "\n",
    "    while i < n1:\n",
    "        arr[k] = left[i]\n",
    "        i += 1\n",
    "        k += 1\n",
    "    while j < n2:\n",
    "        arr[k] = right[j]\n",
    "        j += 1\n",
    "        k += 1\n",
    "\n",
    "def mergesort(arr, l, r):\n",
    "    if l < r:\n",
    "        m = l + (r - l) // 2\n",
    "        mergesort(arr, l, m)\n",
    "        mergesort(arr, m + 1, r)\n",
    "        merge(arr, l, m, r)"
   ]
  },
  {
   "cell_type": "code",
   "execution_count": 17,
   "metadata": {},
   "outputs": [
    {
     "data": {
      "text/plain": [
       "[1, 2, 3, 4, 5, 6, 7, 8, 9, 10]"
      ]
     },
     "execution_count": 17,
     "metadata": {},
     "output_type": "execute_result"
    }
   ],
   "source": [
    "mergesort(unsorted_array, 0, len(unsorted_array)-1)\n",
    "unsorted_array"
   ]
  },
  {
   "cell_type": "code",
   "execution_count": 25,
   "metadata": {},
   "outputs": [],
   "source": [
    "def partition(arr , l , r):\n",
    "    pivot = arr[r]\n",
    "    i = l-1\n",
    "    for j in range(l,  r+1):\n",
    "        if arr[j]<pivot:\n",
    "            i+=1\n",
    "            arr[j],arr[i] = arr[i], arr[j]\n",
    "    arr[i+1], arr[j] =  arr[j] ,arr[i+1]\n",
    "    return i+1\n",
    "\n",
    "\n",
    "def quicksort(arr, l ,r ):\n",
    "    if l<r:\n",
    "        p = partition(arr, l, r)\n",
    "        quicksort(arr, l, p-1)\n",
    "        quicksort(arr, p+1, r)\n",
    "        \n"
   ]
  },
  {
   "cell_type": "code",
   "execution_count": 27,
   "metadata": {},
   "outputs": [
    {
     "data": {
      "text/plain": [
       "[1, 2, 3, 4, 5, 6, 7, 8, 9, 10]"
      ]
     },
     "execution_count": 27,
     "metadata": {},
     "output_type": "execute_result"
    }
   ],
   "source": [
    "quicksort(unsorted_array, 0 , len(unsorted_array)-1)\n",
    "unsorted_array"
   ]
  },
  {
   "cell_type": "code",
   "execution_count": null,
   "metadata": {},
   "outputs": [],
   "source": []
  }
 ],
 "metadata": {
  "kernelspec": {
   "display_name": "base",
   "language": "python",
   "name": "python3"
  },
  "language_info": {
   "codemirror_mode": {
    "name": "ipython",
    "version": 3
   },
   "file_extension": ".py",
   "mimetype": "text/x-python",
   "name": "python",
   "nbconvert_exporter": "python",
   "pygments_lexer": "ipython3",
   "version": "3.12.3"
  }
 },
 "nbformat": 4,
 "nbformat_minor": 2
}
