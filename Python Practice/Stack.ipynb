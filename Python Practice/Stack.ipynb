{
 "cells": [
  {
   "cell_type": "markdown",
   "metadata": {},
   "source": [
    "## Infix to Postfix using stack "
   ]
  },
  {
   "cell_type": "code",
   "execution_count": 42,
   "metadata": {},
   "outputs": [
    {
     "data": {
      "text/plain": [
       "'abcd^e-fgh*+^*+i-'"
      ]
     },
     "execution_count": 42,
     "metadata": {},
     "output_type": "execute_result"
    }
   ],
   "source": [
    "def precedence(op):\n",
    "    if op == '^':\n",
    "        return 3\n",
    "    elif op == '*' or op == '/':\n",
    "        return 2\n",
    "    elif op == '+' or  op == '-':\n",
    "        return 1\n",
    "    return 0\n",
    "\n",
    "expression = \"a+b*(c^d-e)^(f+g*h)-i\"\n",
    "def  infix_to_postfix(expression):\n",
    "    ans = []\n",
    "    stack = []\n",
    "    for i in expression:\n",
    "        if(i.isalnum() ):\n",
    "            ans.append(i)\n",
    "            continue\n",
    "        elif(i=='('):\n",
    "            stack.append(i)\n",
    "            continue\n",
    "        elif(i == ')'):\n",
    "            \n",
    "            while(stack and stack[-1]!= '('):\n",
    "                ans.append(stack.pop())\n",
    "            stack.pop()\n",
    "            continue\n",
    "        else:\n",
    "            while stack and precedence(stack[-1]) >= precedence(i):\n",
    "                    ans.append(stack.pop())\n",
    "            stack.append(i)\n",
    "    while(stack):\n",
    "        ans.append(stack.pop())\n",
    "    \n",
    "    return ans\n",
    "# print(''.join(ans))\n",
    "\n",
    "''.join(infix_to_postfix(expression))"
   ]
  },
  {
   "cell_type": "markdown",
   "metadata": {},
   "source": [
    "## Infix to Prefix"
   ]
  },
  {
   "cell_type": "code",
   "execution_count": 62,
   "metadata": {},
   "outputs": [
    {
     "name": "stdout",
     "output_type": "stream",
     "text": [
      "+a-*b^-^cde+f*ghi\n"
     ]
    }
   ],
   "source": [
    "expression = \"a+b*(c^d-e)^(f+g*h)-i\"\n",
    "rec = []\n",
    "for char in reversed(expression):\n",
    "    if(char == '('):\n",
    "        rec.append(')')\n",
    "    elif(char == ')'):\n",
    "        rec.append('(')\n",
    "    else:\n",
    "        rec.append(char)\n",
    "print(''.join(reversed(infix_to_postfix(rec))))"
   ]
  },
  {
   "cell_type": "markdown",
   "metadata": {},
   "source": [
    "## Postfix to Infix"
   ]
  },
  {
   "cell_type": "code",
   "execution_count": 65,
   "metadata": {},
   "outputs": [
    {
     "name": "stdout",
     "output_type": "stream",
     "text": [
      "((a+(b*(((c^d)-e)^(f+(g*h)))))-i)\n"
     ]
    }
   ],
   "source": [
    "def postfix_to_infix(expression):\n",
    "    stack = []\n",
    "    rec =[]\n",
    "    for i in expression:\n",
    "        if(i.isalnum()):\n",
    "            stack.append(i)\n",
    "        else:\n",
    "            op1= stack.pop()\n",
    "            op2 = stack.pop()\n",
    "            infix = f\"({op2}{i}{op1})\"\n",
    "            stack.append(infix)\n",
    "    \n",
    "    # for char in reversed(stack.pop()):\n",
    "    #     if(char == '('):\n",
    "    #         rec.append(')')\n",
    "    #     elif(char == ')'):\n",
    "    #         rec.append('(')\n",
    "    #     else:\n",
    "    #         rec.append(char) ((a+(b*(((c^d)-e)^(f+(g*h)))))-i)\n",
    "\n",
    "    return stack.pop()\n",
    "\n",
    "print(''.join(postfix_to_infix('abcd^e-fgh*+^*+i-')))"
   ]
  },
  {
   "cell_type": "markdown",
   "metadata": {},
   "source": [
    "## Prefix to Infix"
   ]
  },
  {
   "cell_type": "code",
   "execution_count": 66,
   "metadata": {},
   "outputs": [
    {
     "name": "stdout",
     "output_type": "stream",
     "text": [
      "(a+((b*(((c^d)-e)^(f+(g*h))))-i))\n"
     ]
    }
   ],
   "source": [
    "def prefix_to_infix(expression):\n",
    "    stack = []\n",
    "    rec =[]\n",
    "\n",
    "    for i in (reversed(expression)):\n",
    "        if(i.isalnum()):\n",
    "            stack.append(i)\n",
    "        else:\n",
    "            op1= stack.pop()\n",
    "            op2 = stack.pop()\n",
    "            infix = f\"({op1}{i}{op2})\"\n",
    "            stack.append(infix)\n",
    "    return stack.pop()\n",
    "\n",
    "print(''.join(prefix_to_infix('+a-*b^-^cde+f*ghi')))"
   ]
  },
  {
   "cell_type": "code",
   "execution_count": null,
   "metadata": {},
   "outputs": [],
   "source": []
  }
 ],
 "metadata": {
  "kernelspec": {
   "display_name": "Python 3",
   "language": "python",
   "name": "python3"
  },
  "language_info": {
   "codemirror_mode": {
    "name": "ipython",
    "version": 3
   },
   "file_extension": ".py",
   "mimetype": "text/x-python",
   "name": "python",
   "nbconvert_exporter": "python",
   "pygments_lexer": "ipython3",
   "version": "3.10.0"
  }
 },
 "nbformat": 4,
 "nbformat_minor": 2
}
