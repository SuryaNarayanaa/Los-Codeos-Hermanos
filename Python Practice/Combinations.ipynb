{
 "cells": [
  {
   "cell_type": "code",
   "execution_count": 1,
   "metadata": {},
   "outputs": [
    {
     "name": "stdout",
     "output_type": "stream",
     "text": [
      "[[1, 2], [1, 3], [1, 4], [2, 3], [2, 4], [3, 4]]\n"
     ]
    }
   ],
   "source": [
    "res = []\n",
    "k=2\n",
    "n=4\n",
    "def backtract(element , combination):\n",
    "    if(len(combination) ==   k):\n",
    "        res.append((combination.copy()))\n",
    "        return\n",
    "    else:\n",
    "        for i in range(element, n+1):\n",
    "            combination.append(i)\n",
    "            backtract(i+1, combination)\n",
    "            combination.pop()\n",
    "        \n",
    "backtract(1,[])\n",
    "print(res)"
   ]
  },
  {
   "cell_type": "code",
   "execution_count": 2,
   "metadata": {},
   "outputs": [
    {
     "name": "stdout",
     "output_type": "stream",
     "text": [
      "[[3, 4, 5], [1, 2, 4], [1, 2, 5], [1, 3, 4], [1, 3, 5], [1, 4, 5], [2, 3, 4], [2, 3, 5], [2, 4, 5], [3, 4, 5]]\n"
     ]
    }
   ],
   "source": [
    "n =5\n",
    "k =3\n",
    "initial = [1,2,3]\n",
    "# i = k-1\n",
    "# initial[i]+=1\n",
    "# if(initial[i]>n):\n",
    "#     initial[i]-=2\n",
    "#     initial[i-1]+=1\n",
    "# print(initial)\n",
    "\n",
    "def next_combination(initial):\n",
    "    for  i in range(k-1,-1,-1):  # go from k to 0 and check curr[i]< n-k-i if true curr+=1 then for loop else max combination is reached return \n",
    "        if(initial[i]< n-(k-i-1)):\n",
    "            initial[i]+=1\n",
    "            for j in range(i+1, k):\n",
    "                initial[j]= initial[j-1]+1\n",
    "            return initial\n",
    "    return None\n",
    "ans = []\n",
    "def generate_all_combination(n , k):\n",
    "\n",
    "    initial = list(range(1,k+1))\n",
    "    ans.append(initial)\n",
    "    while(True):\n",
    "        combination = next_combination(initial)\n",
    "\n",
    "        if combination is None:\n",
    "           break\n",
    "        ans.append(combination.copy())\n",
    "    \n",
    "    return ans\n",
    "\n",
    "print(generate_all_combination(n,k))\n"
   ]
  },
  {
   "cell_type": "code",
   "execution_count": null,
   "metadata": {},
   "outputs": [],
   "source": []
  }
 ],
 "metadata": {
  "kernelspec": {
   "display_name": "Python 3",
   "language": "python",
   "name": "python3"
  },
  "language_info": {
   "codemirror_mode": {
    "name": "ipython",
    "version": 3
   },
   "file_extension": ".py",
   "mimetype": "text/x-python",
   "name": "python",
   "nbconvert_exporter": "python",
   "pygments_lexer": "ipython3",
   "version": "3.10.0"
  }
 },
 "nbformat": 4,
 "nbformat_minor": 2
}
