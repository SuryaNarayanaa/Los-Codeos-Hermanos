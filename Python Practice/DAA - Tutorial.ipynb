{
 "cells": [
  {
   "cell_type": "code",
   "execution_count": 35,
   "metadata": {},
   "outputs": [
    {
     "name": "stdout",
     "output_type": "stream",
     "text": [
      "[[], [1], [1, 2], [1, 2, 3], [1, 3], [2], [2, 3], [3]]\n"
     ]
    }
   ],
   "source": [
    "def generate_subsets(arr):\n",
    "    \n",
    "    subsets = []\n",
    "    def backtrack(ind , subs):\n",
    "        subsets.append(list(subs))\n",
    "        for i in range(ind, len(arr)):\n",
    "            subs.append(arr[i])\n",
    "            backtrack(i+1, subs)\n",
    "            subs.pop()\n",
    "    backtrack(0 , [])\n",
    "            \n",
    "    return subsets\n",
    "            \n",
    "                \n",
    "\n",
    "print(generate_subsets([1,2,3]))"
   ]
  },
  {
   "cell_type": "code",
   "execution_count": 30,
   "metadata": {},
   "outputs": [
    {
     "name": "stdout",
     "output_type": "stream",
     "text": [
      "25\n"
     ]
    }
   ],
   "source": [
    "def knapsack_backtrack(weight, vals, cap):\n",
    "    \n",
    "    max_val = 0 \n",
    "    def backtrack(i , curr_cap, curr_val):\n",
    "        nonlocal max_val\n",
    "        if curr_cap > cap : \n",
    "            return \n",
    "        if i == len(weight):\n",
    "            max_val = max(max_val ,curr_val)\n",
    "            return\n",
    "        backtrack(i + 1, curr_cap + weight[i], curr_val + vals[i])\n",
    "        backtrack(i + 1, curr_cap , curr_val )\n",
    "    backtrack(0 , 0 , 0)\n",
    "    return max_val \n",
    "        \n",
    "        \n",
    "weights = [1, 2, 9]\n",
    "values = [10, 15, 40]\n",
    "capacity = 5\n",
    "print(knapsack_backtrack(weights, values, capacity))  # Output: 55"
   ]
  },
  {
   "cell_type": "code",
   "execution_count": 26,
   "metadata": {},
   "outputs": [
    {
     "data": {
      "text/plain": [
       "[[5, 10, 15], [5, 12, 13], [12, 18]]"
      ]
     },
     "execution_count": 26,
     "metadata": {},
     "output_type": "execute_result"
    }
   ],
   "source": [
    "def sum_of_subsets(arr, sums):\n",
    "    total = sum(arr)\n",
    "    initial = 0 \n",
    "    res = []\n",
    "    sol = []\n",
    "    def bactrack(i, init, tot, sol):\n",
    "        if init == sums:\n",
    "            res.append(sol)\n",
    "            return \n",
    "        if  i == len(arr)  or init > sums or tot <0 :\n",
    "            return \n",
    "        \n",
    "        bactrack(i+1 , arr[i]+init, tot- arr[i] , sol +[arr[i]])\n",
    "        bactrack(i+1 , init, tot  - arr[i], sol )\n",
    "    bactrack( 0 , initial, total, [])\n",
    "    return res\n",
    "res  =sum_of_subsets([5,10,12,13,15,18], 30)\n",
    "res\n"
   ]
  },
  {
   "cell_type": "code",
   "execution_count": 16,
   "metadata": {},
   "outputs": [
    {
     "data": {
      "text/plain": [
       "[[1, 3, 0, 2], [2, 0, 3, 1]]"
      ]
     },
     "execution_count": 16,
     "metadata": {},
     "output_type": "execute_result"
    }
   ],
   "source": [
    "def solve_n_queen(num):\n",
    "    col = set()\n",
    "    p = set()\n",
    "    n = set()\n",
    "    res = []\n",
    "    \n",
    "    def bactrack(r):\n",
    "        if r == num:\n",
    "            # Convert current board state to indices\n",
    "            solution = []\n",
    "            for i in range(num):\n",
    "                for j in range(num):\n",
    "                    if board[i][j] == 'Q':\n",
    "                        solution.append(j)\n",
    "            res.append(solution)\n",
    "            return \n",
    "            \n",
    "        for c in range(num):\n",
    "            if c in col or r+c in p or r-c in n:\n",
    "                continue\n",
    "            col.add(c)\n",
    "            p.add(r+c)\n",
    "            n.add(r-c)\n",
    "            board[r][c] = 'Q'\n",
    "            bactrack(r+1)\n",
    "            board[r][c] = '.'\n",
    "            col.remove(c)\n",
    "            p.remove(r+c)\n",
    "            n.remove(r-c)\n",
    "            \n",
    "    board = [['.']*num for _ in range(num)]\n",
    "    bactrack(0)\n",
    "    return res\n",
    "\n",
    "res = solve_n_queen(4)\n",
    "res"
   ]
  },
  {
   "cell_type": "code",
   "execution_count": 4,
   "metadata": {},
   "outputs": [
    {
     "name": "stdout",
     "output_type": "stream",
     "text": [
      "[[1, 3, 0, 2], [2, 0, 3, 1]]\n"
     ]
    }
   ],
   "source": [
    "def solve_n_queens(n):\n",
    "    def is_safe(board, row, col):\n",
    "        for i in range(row):\n",
    "            if board[i] == col or abs(board[i] - col) == abs(i - row):\n",
    "                return False\n",
    "        return True\n",
    "\n",
    "    def backtrack(row):\n",
    "        if row == n:\n",
    "            solutions.append(board[:])\n",
    "            return\n",
    "        for col in range(n):\n",
    "            if is_safe(board, row, col):\n",
    "                board[row] = col\n",
    "                backtrack(row + 1)\n",
    "                board[row] = -1\n",
    "\n",
    "    solutions = []\n",
    "    board = [-1] * n\n",
    "    backtrack(0)\n",
    "    return solutions\n",
    "\n",
    "# Example\n",
    "print(solve_n_queens(4))\n"
   ]
  },
  {
   "cell_type": "code",
   "execution_count": null,
   "metadata": {},
   "outputs": [
    {
     "name": "stdout",
     "output_type": "stream",
     "text": [
      "[1, 4, 2, 5, 2] 0 0\n",
      "[1, 4, 2, 5, 2] 0 0 swaped\n",
      "[1, 4, 2, 5, 2] 1 1\n",
      "[1, 4, 2, 5, 2] 1 2\n",
      "[1, 4, 2, 5, 2] 1 2 swaped\n",
      "[1, 2, 4, 5, 2] 2 3\n",
      "[1, 2, 2, 5, 4] 0 0\n",
      "[1, 2, 2, 5, 4] 0 0 swaped\n",
      "[1, 2, 2, 5, 4] 3 3\n"
     ]
    },
    {
     "data": {
      "text/plain": [
       "[1, 2, 2, 4, 5]"
      ]
     },
     "execution_count": 8,
     "metadata": {},
     "output_type": "execute_result"
    }
   ],
   "source": [
    "def partition(arr, low , high):\n",
    "    pivot = arr[high]\n",
    "    i = low\n",
    "\n",
    "    for j in range(low, high):\n",
    "        print(arr , i , j )\n",
    "\n",
    "        if arr[j] <= pivot :\n",
    "            print(arr , i , j , 'swaped')\n",
    "            arr[i] , arr[j] = arr[j] ,arr[i]\n",
    "            i+=1\n",
    "    arr[i] , arr[high] = arr[high] ,arr[i]\n",
    "    return i\n",
    "\n",
    "\n",
    "def quicksort( arr , low , high):\n",
    "    if low < high:\n",
    "        p = partition(arr, low , high)\n",
    "        quicksort(arr ,low , p-1)\n",
    "        quicksort(arr, p+1, high)\n",
    "\n",
    "# 1 2 3 5 4\n",
    "i =2 \n",
    "j= 3\n",
    "arr = [1 , 4 , 2 ,5 ,2]\n",
    "l =len(arr)\n",
    "quicksort(arr , 0 , l-1)\n",
    "arr"
   ]
  },
  {
   "cell_type": "code",
   "execution_count": null,
   "metadata": {},
   "outputs": [
    {
     "data": {
      "text/plain": [
       "[-87, -9, 0, 2, 2, 3, 4, 5, 6, 8]"
      ]
     },
     "execution_count": 5,
     "metadata": {},
     "output_type": "execute_result"
    }
   ],
   "source": [
    "def merge(arr, low, mid, high):\n",
    "    left = arr[low:mid + 1]\n",
    "    right = arr[mid + 1:high + 1]\n",
    "    \n",
    "    i = j = 0\n",
    "    k = low\n",
    "    \n",
    "    while i < len(left) and j < len(right):\n",
    "        if left[i] <= right[j]:\n",
    "            arr[k] = left[i]\n",
    "            i += 1\n",
    "        else:\n",
    "            arr[k] = right[j]\n",
    "            j += 1\n",
    "        k += 1\n",
    "    \n",
    "    while i < len(left):\n",
    "        arr[k] = left[i]\n",
    "        i += 1\n",
    "        k += 1\n",
    "        \n",
    "    while j < len(right):\n",
    "        arr[k] = right[j]\n",
    "        j += 1\n",
    "        k += 1\n",
    "def mergesort(arr, low, high):\n",
    "    if low < high:\n",
    "        mid = (low + high) // 2\n",
    "        mergesort(arr, low, mid)\n",
    "        mergesort(arr, mid + 1, high)\n",
    "        merge(arr, low, mid, high)\n",
    "    return arr\n",
    "\n",
    "arr = [8,6,0,4,-87,2,5,-9,3,2]\n",
    "l =len(arr)\n",
    "mergesort(arr , 0 , l-1)\n",
    "arr"
   ]
  },
  {
   "cell_type": "code",
   "execution_count": null,
   "metadata": {},
   "outputs": [],
   "source": []
  },
  {
   "cell_type": "code",
   "execution_count": 5,
   "metadata": {},
   "outputs": [
    {
     "data": {
      "text/plain": [
       "[(91, 12), (74, 64), (58, 70), (40, 60), (23, 48), (24, 20), (91, 12)]"
      ]
     },
     "execution_count": 5,
     "metadata": {},
     "output_type": "execute_result"
    },
    {
     "data": {
      "image/png": "[encoded data removed]",
      "text/plain": [
       "<Figure size 640x480 with 1 Axes>"
      ]
     },
     "metadata": {},
     "output_type": "display_data"
    }
   ],
   "source": [
    "import math\n",
    "import random\n",
    "import matplotlib.pyplot as plt\n",
    "\n",
    "def cross_product( p1,p2, p3):\n",
    "    return (p2[0]  - p1[0])*(p3[1] - p1[1]) - (p3[0]  - p1[0])*(p2[1] - p1[1])\n",
    "\n",
    "def distance(p1,p2):\n",
    "    return (p2[1] - p1[1])**2 + (p2[0] - p1[0])**2\n",
    "\n",
    "def graham_scan(points):\n",
    "    if len(points)<3:\n",
    "        return points\n",
    "    \n",
    "    min_point = min(points , key= lambda p : (p[1], p[0]))\n",
    "    sorted_by_polar = sorted(points , key= lambda p : (math.atan2(p[1] - min_point[1] , p[0] - min_point[0]), distance(p, min_point)))\n",
    "\n",
    "    hull = [sorted_by_polar[0] , sorted_by_polar[1]]\n",
    "    for p in sorted_by_polar[2:]:\n",
    "        while len(hull) >1 and cross_product(hull[-2] , hull[-1] , p) <= 0 :\n",
    "            hull.pop()\n",
    "\n",
    "        hull.append(p)\n",
    "\n",
    "    return hull\n",
    "\n",
    "points = [(random.randint(0, 100), random.randint(0, 100)) for _ in range(10)]\n",
    "\n",
    "hull = graham_scan(points)\n",
    "x, y =zip(*points)\n",
    "plt.scatter(x,y)\n",
    "hull = [*hull , hull[0]]\n",
    "hx,hy = zip(*hull)\n",
    "plt.plot(hx,hy , 'r-')\n",
    "hull\n"
   ]
  },
  {
   "cell_type": "code",
   "execution_count": 1,
   "metadata": {},
   "outputs": [
    {
     "name": "stdout",
     "output_type": "stream",
     "text": [
      "34 [(2, 3, 4), (0, 3, 5), (0, 5, 10), (1, 3, 15)]\n"
     ]
    }
   ],
   "source": [
    "class DisjointSet:\n",
    "    def __init__(self , n , edges):\n",
    "\n",
    "        self.rank = [1]*(n+1)\n",
    "        self.parent = list(range(n+1))\n",
    "\n",
    "    def FindUltimateParent(self, u ):\n",
    "\n",
    "        if u == self.parent[u]:\n",
    "            return u\n",
    "        else:\n",
    "            self.parent[u] = self.FindUltimateParent(self.parent[u])\n",
    "            return self.parent[u]\n",
    "        \n",
    "    def union(self , u, v):\n",
    "\n",
    "        upu , upv = self.FindUltimateParent(u ) , self.FindUltimateParent(v)\n",
    "\n",
    "        if self.rank[upu] < self.rank[upv] :\n",
    "            self.parent[upu] = upv\n",
    "\n",
    "        elif self.rank[upu] > self.rank[upv] :\n",
    "            self.parent[upv] = upu\n",
    "        \n",
    "        else:\n",
    "            self.parent[upv] = upu\n",
    "            self.rank[upu] +=1\n",
    "\n",
    "\n",
    "def kruskal(edges, n ):\n",
    "\n",
    "    ds = DisjointSet(n ,edges)\n",
    "\n",
    "    sorted_edges = sorted(edges , key= lambda x : x[2])\n",
    "\n",
    "    mst = []\n",
    "    tw = 0\n",
    "\n",
    "    for u , v , w in sorted_edges:\n",
    "        if ds.FindUltimateParent(u ) != ds.FindUltimateParent(v):\n",
    "            ds.union(u,v)\n",
    "            mst.append((u,v,w))\n",
    "            tw+= w\n",
    "\n",
    "    return mst,tw\n",
    "\n",
    "\n",
    "edges = [\n",
    "    (0, 5, 10), (0, 2, 6), (0, 3, 5),\n",
    "    (1, 3, 15), (2, 3, 4)\n",
    "]\n",
    "\n",
    "n =5\n",
    "msp , w = kruskal(edges , n)\n",
    "\n",
    "print(w , msp)            "
   ]
  },
  {
   "cell_type": "code",
   "execution_count": 21,
   "metadata": {},
   "outputs": [
    {
     "name": "stdout",
     "output_type": "stream",
     "text": [
      "Total Weight of MST: 11\n",
      "Total Weight of MST: [(5, 3, 1), (6, 2, 1)]\n"
     ]
    }
   ],
   "source": [
    "import heapq\n",
    "\n",
    "def prims(n ,adj):\n",
    "    visited = [False]*(n+1)\n",
    "    mst = []\n",
    "    tw = 0\n",
    "\n",
    "    min_heap = [(0,1,-1)] \n",
    "\n",
    "    while min_heap and len(mst) < n-1 : \n",
    "        w , u , v = heapq.heappop(min_heap)\n",
    "\n",
    "        if visited[u]:\n",
    "            continue\n",
    "        visited[u] = True\n",
    "        tw+=w\n",
    "        if v!=-1:\n",
    "            mst.append((w , u , v))\n",
    "\n",
    "        for v, w in adj[u]:\n",
    "            if not visited[v]:\n",
    "                heapq.heappush(min_heap , (w,v,u))\n",
    "\n",
    "\n",
    "    return tw, mst\n",
    "\n",
    "\n",
    "n, m = 5, 7  # Number of nodes and edges\n",
    "edges = [\n",
    "    (1, 1, 10), (1, 2, 6), (1, 3, 5),\n",
    "    (2, 3, 15), (3, 3, 4)\n",
    "]\n",
    "\n",
    "adj = {\n",
    "    i: [] for i in range(1,n+1)\n",
    "}\n",
    "\n",
    "for  u , v , w in edges:\n",
    "    adj[u].append((v,w))\n",
    "\n",
    "total_weight, mst_edges = prims(n, adj)\n",
    "print(\"Total Weight of MST:\", total_weight)\n",
    "\n",
    "print(\"Total Weight of MST:\", mst_edges)\n"
   ]
  }
 ],
 "metadata": {
  "kernelspec": {
   "display_name": "Kumari",
   "language": "python",
   "name": "python3"
  },
  "language_info": {
   "codemirror_mode": {
    "name": "ipython",
    "version": 3
   },
   "file_extension": ".py",
   "mimetype": "text/x-python",
   "name": "python",
   "nbconvert_exporter": "python",
   "pygments_lexer": "ipython3",
   "version": "3.9.21"
  }
 },
 "nbformat": 4,
 "nbformat_minor": 2
}
