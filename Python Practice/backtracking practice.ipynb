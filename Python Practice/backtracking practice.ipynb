{
 "cells": [
  {
   "cell_type": "code",
   "execution_count": 10,
   "metadata": {},
   "outputs": [
    {
     "name": "stdout",
     "output_type": "stream",
     "text": [
      "Entering backtrack: ind= 0 subset= []\n",
      "Adding element: 1\n",
      "Subset after adding: [1]\n",
      "Entering backtrack: ind= 1 subset= [1]\n",
      "Adding element: 2\n",
      "Subset after adding: [1, 2]\n",
      "Entering backtrack: ind= 2 subset= [1, 2]\n",
      "Adding element: 3\n",
      "Subset after adding: [1, 2, 3]\n",
      "Entering backtrack: ind= 3 subset= [1, 2, 3]\n",
      "Exiting backtrack: ind= 3 subset= [1, 2, 3]\n",
      "Popped element: 3\n",
      "Subset after popping: [1, 2]\n",
      "Exiting backtrack: ind= 2 subset= [1, 2]\n",
      "Popped element: 2\n",
      "Subset after popping: [1]\n",
      "Adding element: 3\n",
      "Subset after adding: [1, 3]\n",
      "Entering backtrack: ind= 3 subset= [1, 3]\n",
      "Exiting backtrack: ind= 3 subset= [1, 3]\n",
      "Popped element: 3\n",
      "Subset after popping: [1]\n",
      "Exiting backtrack: ind= 1 subset= [1]\n",
      "Popped element: 1\n",
      "Subset after popping: []\n",
      "Adding element: 2\n",
      "Subset after adding: [2]\n",
      "Entering backtrack: ind= 2 subset= [2]\n",
      "Adding element: 3\n",
      "Subset after adding: [2, 3]\n",
      "Entering backtrack: ind= 3 subset= [2, 3]\n",
      "Exiting backtrack: ind= 3 subset= [2, 3]\n",
      "Popped element: 3\n",
      "Subset after popping: [2]\n",
      "Exiting backtrack: ind= 2 subset= [2]\n",
      "Popped element: 2\n",
      "Subset after popping: []\n",
      "Adding element: 3\n",
      "Subset after adding: [3]\n",
      "Entering backtrack: ind= 3 subset= [3]\n",
      "Exiting backtrack: ind= 3 subset= [3]\n",
      "Popped element: 3\n",
      "Subset after popping: []\n",
      "Exiting backtrack: ind= 0 subset= []\n",
      "Generated subsets: [[], [1], [1, 2], [1, 2, 3], [1, 3], [2], [2, 3], [3]]\n"
     ]
    }
   ],
   "source": [
    "def generate_subsets(s):\n",
    "    \"\"\"\n",
    "    Generate all possible subsets of the input set/list.\n",
    "\n",
    "    Args:\n",
    "        s (list): A list of unique elements.\n",
    "\n",
    "    Returns:\n",
    "        List[List]: A list containing all subsets of s.\n",
    "    \"\"\"\n",
    "    result = []\n",
    "    def backtrack(ind, subset):\n",
    "        print(\"Entering backtrack: ind=\", ind, \"subset=\", subset)  # Debug: entry\n",
    "        result.append(subset.copy())\n",
    "        for i in range(ind, len(s)):\n",
    "            print(\"Adding element:\", s[i])\n",
    "            subset.append(s[i])\n",
    "            print(\"Subset after adding:\", subset)\n",
    "            backtrack(i + 1, subset)\n",
    "            popped = subset.pop()\n",
    "            print(\"Popped element:\", popped)\n",
    "            print(\"Subset after popping:\", subset)\n",
    "        print(\"Exiting backtrack: ind=\", ind, \"subset=\", subset)  # Debug: exit\n",
    "    backtrack(0, [])\n",
    "    return result\n",
    "\n",
    "subsets = generate_subsets([1, 2, 3])\n",
    "print(\"Generated subsets:\", subsets)"
   ]
  },
  {
   "cell_type": "code",
   "execution_count": 14,
   "metadata": {},
   "outputs": [
    {
     "data": {
      "text/plain": [
       "[[], [1], [1, 2], [1, 2, 3], [1, 3], [2], [2, 3], [3]]"
      ]
     },
     "execution_count": 14,
     "metadata": {},
     "output_type": "execute_result"
    }
   ],
   "source": [
    "def genearte_subsets(s):\n",
    "    result = []\n",
    "    def backtrack(ind , subset):\n",
    "        result.append(subset.copy())\n",
    "        for i in range(ind, len(s)):\n",
    "            subset.append(s[i])\n",
    "            backtrack(i+1, subset)\n",
    "            subset.pop()\n",
    "        \n",
    "    backtrack(0, [])\n",
    "\n",
    "    return result\n",
    "genearte_subsets([1,2,3])\n"
   ]
  },
  {
   "cell_type": "code",
   "execution_count": null,
   "metadata": {},
   "outputs": [],
   "source": []
  }
 ],
 "metadata": {
  "kernelspec": {
   "display_name": "base",
   "language": "python",
   "name": "python3"
  },
  "language_info": {
   "codemirror_mode": {
    "name": "ipython",
    "version": 3
   },
   "file_extension": ".py",
   "mimetype": "text/x-python",
   "name": "python",
   "nbconvert_exporter": "python",
   "pygments_lexer": "ipython3",
   "version": "3.12.3"
  }
 },
 "nbformat": 4,
 "nbformat_minor": 2
}
