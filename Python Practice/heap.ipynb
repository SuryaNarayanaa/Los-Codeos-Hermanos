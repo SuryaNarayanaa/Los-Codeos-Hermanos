{
 "cells": [
  {
   "cell_type": "code",
   "execution_count": null,
   "metadata": {},
   "outputs": [
    {
     "data": {
      "text/plain": [
       "10"
      ]
     },
     "execution_count": 1,
     "metadata": {},
     "output_type": "execute_result"
    }
   ],
   "source": [
    "arr = [7,4,6,8,0,6,3,2,1,7]\n",
    "N = len(arr)\n"
   ]
  },
  {
   "cell_type": "code",
   "execution_count": null,
   "metadata": {
    "vscode": {
     "languageId": "ruby"
    }
   },
   "outputs": [
    {
     "data": {
      "text/plain": [
       "[0, 1, 3, 2, 4, 6, 6, 7, 8, 7]"
      ]
     },
     "execution_count": 8,
     "metadata": {},
     "output_type": "execute_result"
    }
   ],
   "source": [
    "class MinHeap:\n",
    "    \n",
    "    def left(i):\n",
    "        return 2*i+1\n",
    "    def right(i):\n",
    "        return 2*i+2\n",
    "    def parent(i):\n",
    "        return (i-1)//2\n",
    "    \n",
    "        \n",
    "    def heapify_down(arr,i):\n",
    "        l,r  = MinHeap.left(i), MinHeap.right(i)\n",
    "        smallest = i\n",
    "        if l<len(arr) and arr[l]<arr[smallest]:\n",
    "            smallest = l\n",
    "\n",
    "        if r<len(arr) and arr[r]<arr[smallest]:\n",
    "            smallest = r\n",
    "        if smallest!= i:\n",
    "            arr[smallest] ,arr[i] =arr[i], arr[smallest]\n",
    "            MinHeap.heapify_down(arr, smallest)\n",
    "\n",
    "    def heapify(arr):\n",
    "        for i in range(len(arr)//2 - 1, -1, -1):\n",
    "            MinHeap.heapify_down(arr, i)\n",
    "    \n",
    "    \n",
    "heap = MinHeap\n",
    "heap.heapify(arr)\n",
    "arr\n",
    "\n",
    "        \n"
   ]
  },
  {
   "cell_type": "code",
   "execution_count": null,
   "metadata": {
    "vscode": {
     "languageId": "ruby"
    }
   },
   "outputs": [],
   "source": []
  }
 ],
 "metadata": {
  "kernelspec": {
   "display_name": "base",
   "language": "python",
   "name": "python3"
  },
  "language_info": {
   "codemirror_mode": {
    "name": "ipython",
    "version": 3
   },
   "file_extension": ".py",
   "mimetype": "text/x-python",
   "name": "python",
   "nbconvert_exporter": "python",
   "pygments_lexer": "ipython3",
   "version": "3.12.3"
  }
 },
 "nbformat": 4,
 "nbformat_minor": 2
}
