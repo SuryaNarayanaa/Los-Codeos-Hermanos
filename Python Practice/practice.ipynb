{
 "cells": [
  {
   "cell_type": "code",
   "execution_count": 1,
   "metadata": {},
   "outputs": [
    {
     "name": "stdout",
     "output_type": "stream",
     "text": [
      "5 5\n",
      "5 5\n",
      "41 5\n",
      "43 41\n",
      "76 43\n",
      "76 57\n",
      "76 57\n",
      "76 57\n",
      "100 76\n",
      "1001 100\n",
      "1004 1001\n"
     ]
    },
    {
     "data": {
      "text/plain": [
       "1004"
      ]
     },
     "execution_count": 1,
     "metadata": {},
     "output_type": "execute_result"
    }
   ],
   "source": [
    "arr = [5, 41, 43, 76, 57, 47, 32,100,1001,1004,10006]\n",
    "m1,m2= arr[0],arr[0]\n",
    "for i in arr:\n",
    "    print(m1,m2)\n",
    "    if i>m1:\n",
    "        m2 =m1\n",
    "        m1 = i\n",
    "        continue\n",
    "    if i>m2:\n",
    "        m2 = i\n",
    "m2\n",
    "    "
   ]
  },
  {
   "cell_type": "code",
   "execution_count": 21,
   "metadata": {},
   "outputs": [
    {
     "name": "stdout",
     "output_type": "stream",
     "text": [
      "0 1\n",
      "0 0\n",
      "1 1\n"
     ]
    },
    {
     "data": {
      "text/plain": [
       "[2, 1]"
      ]
     },
     "execution_count": 21,
     "metadata": {},
     "output_type": "execute_result"
    }
   ],
   "source": [
    "arr = [1,2]\n",
    "\n",
    "k=1\n",
    "l,r = 0 , len(arr)-1\n",
    "while(l<=r):\n",
    "    print(l,r)\n",
    "    arr[l],arr[r] = arr[r] , arr[l]\n",
    "    l+=1\n",
    "    r-=1\n",
    "l,r = 0 , k-1\n",
    "while(l<=r):\n",
    "    print(l,r)\n",
    "    arr[l],arr[r] = arr[r] , arr[l]\n",
    "    l+=1\n",
    "    r-=1\n",
    "l,r = k,len(arr)-1\n",
    "while(l<=r):\n",
    "    print(l,r)\n",
    "    arr[l],arr[r] = arr[r] , arr[l]\n",
    "    l+=1\n",
    "    r-=1\n",
    "arr"
   ]
  },
  {
   "cell_type": "code",
   "execution_count": 27,
   "metadata": {},
   "outputs": [
    {
     "data": {
      "text/plain": [
       "5"
      ]
     },
     "execution_count": 27,
     "metadata": {},
     "output_type": "execute_result"
    }
   ],
   "source": [
    "a = [2, 3, 5, 1, 9]\n",
    "k = 5\n",
    "i,j = 0,0\n",
    "sum = 0\n",
    "while(j<len(a)):\n",
    "    while j<len(a) and not sum<k:\n",
    "        i+=1\n",
    "    sum = max(j-i+1,sum)\n",
    "    j+=1\n",
    "sum\n",
    "    \n"
   ]
  },
  {
   "cell_type": "code",
   "execution_count": 11,
   "metadata": {},
   "outputs": [
    {
     "name": "stdout",
     "output_type": "stream",
     "text": [
      "[1, -1, 1, -1, 1, -1, 1, -1, 1, -1, 1, -1, 1, -1, 1, -1]\n"
     ]
    }
   ],
   "source": [
    "nums = [-1, -1, -1, -1, -1, -1, -1, -1, 1, 1, 1, 1, 1, 1, 1, 1]\n",
    "n = len(nums)\n",
    "i, j = 0, 0\n",
    "\n",
    "while j < n:\n",
    "    if j % 2 == 0 and nums[j] < 0:\n",
    "        i = max(i, j + 1)\n",
    "        while i < n and nums[i] < 0:\n",
    "            i += 1\n",
    "        if i < n:\n",
    "            nums[j], nums[i] = nums[i], nums[j]\n",
    "    elif j % 2 == 1 and nums[j] > 0:\n",
    "        i = max(i, j + 1)\n",
    "        while i < n and nums[i] > 0:\n",
    "            i += 1\n",
    "        if i < n:\n",
    "            nums[j], nums[i] = nums[i], nums[j]\n",
    "    j += 1\n",
    "\n",
    "print(nums)"
   ]
  },
  {
   "cell_type": "code",
   "execution_count": 6,
   "metadata": {},
   "outputs": [
    {
     "name": "stdout",
     "output_type": "stream",
     "text": [
      "ab\n"
     ]
    }
   ],
   "source": [
    "def remove_substring(s, part):\n",
    "    stack = []\n",
    "    for char in s:\n",
    "        stack.append(char)\n",
    "        if len(stack) >= len(part) and ''.join(stack[-len(part):]) == part:\n",
    "            for _ in range(len(part)):\n",
    "                stack.pop()\n",
    "    return ''.join(stack)\n",
    "\n",
    "# The existing variables s and part will be used\n",
    "print(remove_substring(\"axxxxyyyyb\", \"xy\"))\n"
   ]
  },
  {
   "cell_type": "code",
   "execution_count": null,
   "metadata": {},
   "outputs": [],
   "source": []
  }
 ],
 "metadata": {
  "kernelspec": {
   "display_name": "base",
   "language": "python",
   "name": "python3"
  },
  "language_info": {
   "codemirror_mode": {
    "name": "ipython",
    "version": 3
   },
   "file_extension": ".py",
   "mimetype": "text/x-python",
   "name": "python",
   "nbconvert_exporter": "python",
   "pygments_lexer": "ipython3",
   "version": "3.12.3"
  }
 },
 "nbformat": 4,
 "nbformat_minor": 2
}
