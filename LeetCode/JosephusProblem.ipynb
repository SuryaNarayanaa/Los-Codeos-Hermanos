{
 "cells": [
  {
   "cell_type": "code",
   "execution_count": 50,
   "metadata": {},
   "outputs": [],
   "source": [
    "def josephus_recursive(n, k):\n",
    "    if n == 1:\n",
    "        return 0  # Base case: Only one person, position 0 survives\n",
    "    return (josephus_recursive(n - 1, k) + k) % n\n"
   ]
  },
  {
   "cell_type": "code",
   "execution_count": 51,
   "metadata": {},
   "outputs": [],
   "source": [
    "def josephus_iterative(n, k):\n",
    "    survivor = 0  # Base case: J(1, k) = 0\n",
    "    for i in range(2, n + 1):\n",
    "        survivor = (survivor + k) % i\n",
    "    return survivor\n"
   ]
  },
  {
   "cell_type": "code",
   "execution_count": 53,
   "metadata": {},
   "outputs": [
    {
     "data": {
      "text/plain": [
       "(6, 6)"
      ]
     },
     "execution_count": 53,
     "metadata": {},
     "output_type": "execute_result"
    }
   ],
   "source": [
    "josephus_iterative(7,2),josephus_recursive(7,2)\n"
   ]
  },
  {
   "cell_type": "code",
   "execution_count": 54,
   "metadata": {},
   "outputs": [
    {
     "data": {
      "text/plain": [
       "1"
      ]
     },
     "execution_count": 54,
     "metadata": {},
     "output_type": "execute_result"
    }
   ],
   "source": [
    "def find_start_iterative(n, k, p):\n",
    "    # Convert target position to zero-based index\n",
    "    p -= 1\n",
    "    survivor = p\n",
    "\n",
    "    # Work backward from n to 1\n",
    "    for i in range(n, 1, -1):\n",
    "        survivor = (survivor - k) % i\n",
    "\n",
    "    # Return the one-based index of the starting position\n",
    "    return survivor + 1\n",
    "find_start_iterative(7,2,7)"
   ]
  },
  {
   "cell_type": "code",
   "execution_count": 55,
   "metadata": {},
   "outputs": [
    {
     "name": "stdout",
     "output_type": "stream",
     "text": [
      "Starting position to ensure survival at position 7 : 2\n"
     ]
    }
   ],
   "source": []
  },
  {
   "cell_type": "code",
   "execution_count": null,
   "metadata": {},
   "outputs": [],
   "source": []
  }
 ],
 "metadata": {
  "kernelspec": {
   "display_name": "Python 3",
   "language": "python",
   "name": "python3"
  },
  "language_info": {
   "codemirror_mode": {
    "name": "ipython",
    "version": 3
   },
   "file_extension": ".py",
   "mimetype": "text/x-python",
   "name": "python",
   "nbconvert_exporter": "python",
   "pygments_lexer": "ipython3",
   "version": "undefined.undefined.undefined"
  }
 },
 "nbformat": 4,
 "nbformat_minor": 2
}
