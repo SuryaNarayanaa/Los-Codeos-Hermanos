{
 "cells": [
  {
   "cell_type": "code",
   "execution_count": 2,
   "metadata": {},
   "outputs": [
    {
     "name": "stdout",
     "output_type": "stream",
     "text": [
      "Peak Element: 21\n"
     ]
    }
   ],
   "source": [
    "arr = [\n",
    "    [10, 8, 10, 10],\n",
    "    [14, 13, 12, 11],\n",
    "    [15, 9, 11, 21],\n",
    "    [16, 17, 19, 20]\n",
    "]\n",
    "\n",
    "def peak2d(arr, min_c,max_c, row):\n",
    "    mid = (min_c+max_c)//2\n",
    "    max_row_e = 0\n",
    "    for i in range(row):\n",
    "        if(arr[i][mid]>arr[max_row_e][mid]):\n",
    "            max_row_e= i\n",
    "    \n",
    "    if((mid ==0 or arr[max_row_e][mid] >arr[max_row_e][mid-1]  ) and (mid == len(arr[0])-1 or arr[max_row_e][mid] > arr[max_row_e][mid+1]  )):\n",
    "        return arr[max_row_e][mid] \n",
    "    if(mid > 0 and arr[max_row_e][mid-1]>arr[max_row_e][mid] ):\n",
    "        return peak2d(arr,min_c, mid-1, row)\n",
    "    return peak2d(arr,min_c+1, max_c, row)\n",
    "    \n",
    "    \n",
    "def find_peak(arr):\n",
    "    return peak2d(arr, 0, len(arr[0]) - 1, len(arr))\n",
    "\n",
    "# Example usage\n",
    "arr = [\n",
    "    [10, 8, 10, 10],\n",
    "    [14, 13, 12, 11],\n",
    "    [15, 9, 11, 21],\n",
    "    [16, 17, 19, 20]\n",
    "]\n",
    "\n",
    "print(\"Peak Element:\", find_peak(arr))"
   ]
  },
  {
   "cell_type": "code",
   "execution_count": 5,
   "metadata": {},
   "outputs": [
    {
     "name": "stdout",
     "output_type": "stream",
     "text": [
      "Peak Element: None\n"
     ]
    },
    {
     "data": {
      "text/plain": [
       "[30, 21]"
      ]
     },
     "execution_count": 5,
     "metadata": {},
     "output_type": "execute_result"
    }
   ],
   "source": [
    "ans = []\n",
    "def find_peak_iterative(arr):\n",
    "    n = len(arr)  # Number of rows\n",
    "    m = len(arr[0])  # Number of columns\n",
    "\n",
    "    start_col = 0\n",
    "    end_col = m - 1\n",
    "\n",
    "    while start_col <= end_col:\n",
    "        # Find the middle column\n",
    "        mid_col = (start_col + end_col) // 2\n",
    "\n",
    "        # Find the row with the maximum element in the middle column\n",
    "        max_row = 0\n",
    "        for i in range(n):\n",
    "            if arr[i][mid_col] > arr[max_row][mid_col]:\n",
    "                max_row = i\n",
    "\n",
    "        # Check if the maximum element is a peak\n",
    "        if (mid_col == 0 or arr[max_row][mid_col] >= arr[max_row][mid_col - 1]) and \\\n",
    "           (mid_col == m - 1 or arr[max_row][mid_col] >= arr[max_row][mid_col + 1]):\n",
    "            ans.append(arr[max_row][mid_col])\n",
    "\n",
    "        # Move to the left half if the left neighbor is greater\n",
    "        if mid_col > 0 and arr[max_row][mid_col - 1] > arr[max_row][mid_col]:\n",
    "            end_col = mid_col - 1\n",
    "        # Move to the right half if the right neighbor is greater\n",
    "        else:\n",
    "            start_col = mid_col + 1\n",
    "\n",
    "    return None  # This line is reached only if no peak exists (edge case)\n",
    "\n",
    "# Example usage\n",
    "arr = [\n",
    "    [10, 30, 10, 10],\n",
    "    [14, 13, 12, 11],\n",
    "    [15, 9, 11, 21],\n",
    "    [16, 17, 19, 20]\n",
    "]\n",
    "\n",
    "print(\"Peak Element:\", find_peak_iterative(arr))\n",
    "ans\n"
   ]
  },
  {
   "cell_type": "code",
   "execution_count": null,
   "metadata": {},
   "outputs": [],
   "source": []
  }
 ],
 "metadata": {
  "kernelspec": {
   "display_name": "Python 3",
   "language": "python",
   "name": "python3"
  },
  "language_info": {
   "codemirror_mode": {
    "name": "ipython",
    "version": 3
   },
   "file_extension": ".py",
   "mimetype": "text/x-python",
   "name": "python",
   "nbconvert_exporter": "python",
   "pygments_lexer": "ipython3",
   "version": "3.10.0"
  }
 },
 "nbformat": 4,
 "nbformat_minor": 2
}
