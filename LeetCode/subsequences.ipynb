{
 "cells": [
  {
   "cell_type": "code",
   "execution_count": 11,
   "metadata": {},
   "outputs": [],
   "source": [
    "arr = [1,2,3,1]"
   ]
  },
  {
   "cell_type": "code",
   "execution_count": null,
   "metadata": {},
   "outputs": [
    {
     "data": {
      "text/plain": [
       "[[2], [1, 1]]"
      ]
     },
     "execution_count": 14,
     "metadata": {},
     "output_type": "execute_result"
    },
    {
     "ename": "",
     "evalue": "",
     "output_type": "error",
     "traceback": [
      "\u001b[1;31mThe Kernel crashed while executing code in the current cell or a previous cell. \n",
      "\u001b[1;31mPlease review the code in the cell(s) to identify a possible cause of the failure. \n",
      "\u001b[1;31mClick <a href='https://aka.ms/vscodeJupyterKernelCrash'>here</a> for more info. \n",
      "\u001b[1;31mView Jupyter <a href='command:jupyter.viewOutput'>log</a> for further details."
     ]
    }
   ],
   "source": [
    "def return_all_subsequences(arr, target):\n",
    "\n",
    "    len_arr = len(arr)\n",
    "    total_combinations = 2**len_arr\n",
    "    res  = [ ]\n",
    "    for n in range(total_combinations):\n",
    "        # f = False\n",
    "        curr = [ ]\n",
    "        \n",
    "        for i in range(len_arr):\n",
    "            \n",
    "            if n&(1<<i) :\n",
    "                curr.append(arr[i])\n",
    "        # if len(curr) == 0:\n",
    "        #     print(i)\n",
    "        #     print(bin((1<<i)))\n",
    "        #     print(n)\n",
    "        if sum(curr) == target :\n",
    "            res.append(curr)\n",
    "        #     f = True\n",
    "        # if f :\n",
    "        #     break\n",
    "\n",
    "    return res\n",
    "\n",
    "\n",
    "\n",
    "return_all_subsequences(arr,2)"
   ]
  },
  {
   "cell_type": "code",
   "execution_count": null,
   "metadata": {},
   "outputs": [],
   "source": []
  },
  {
   "cell_type": "code",
   "execution_count": null,
   "metadata": {},
   "outputs": [],
   "source": []
  }
 ],
 "metadata": {
  "kernelspec": {
   "display_name": "base",
   "language": "python",
   "name": "python3"
  },
  "language_info": {
   "codemirror_mode": {
    "name": "ipython",
    "version": 3
   },
   "file_extension": ".py",
   "mimetype": "text/x-python",
   "name": "python",
   "nbconvert_exporter": "python",
   "pygments_lexer": "ipython3",
   "version": "3.12.3"
  }
 },
 "nbformat": 4,
 "nbformat_minor": 2
}
